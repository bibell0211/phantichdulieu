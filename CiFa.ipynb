{
  "nbformat": 4,
  "nbformat_minor": 0,
  "metadata": {
    "colab": {
      "name": "CiFa.ipynb",
      "provenance": [],
      "collapsed_sections": [],
      "authorship_tag": "ABX9TyMGnGlH7iZw+TM/e0qRuRiD",
      "include_colab_link": true
    },
    "kernelspec": {
      "name": "python3",
      "display_name": "Python 3"
    },
    "language_info": {
      "name": "python"
    }
  },
  "cells": [
    {
      "cell_type": "markdown",
      "metadata": {
        "id": "view-in-github",
        "colab_type": "text"
      },
      "source": [
        "<a href=\"https://colab.research.google.com/github/bibell0211/phantichdulieu/blob/main/CiFa.ipynb\" target=\"_parent\"><img src=\"https://colab.research.google.com/assets/colab-badge.svg\" alt=\"Open In Colab\"/></a>"
      ]
    },
    {
      "cell_type": "code",
      "execution_count": 1,
      "metadata": {
        "id": "g7A1VdnNW8tu"
      },
      "outputs": [],
      "source": [
        "import tensorflow as tf\n",
        "from tensorflow.keras import datasets, layers, models\n",
        "import matplotlib.pyplot as plt\n",
        "import numpy as np\n",
        "from keras.preprocessing.image import img_to_array\n",
        "from keras.preprocessing.image import load_img"
      ]
    },
    {
      "cell_type": "code",
      "source": [
        "(X_train, y_train), (X_test,y_test) = datasets.cifar10.load_data() \n",
        "X_train.shape #(50.000 mẫu , kích thước ảnh 32x32 ,mảng 3 chiều)"
      ],
      "metadata": {
        "colab": {
          "base_uri": "https://localhost:8080/"
        },
        "id": "7Pu6PNlUW_8u",
        "outputId": "330e09ae-bb6d-4747-cee3-56de6a6ad0dd"
      },
      "execution_count": 2,
      "outputs": [
        {
          "output_type": "stream",
          "name": "stdout",
          "text": [
            "Downloading data from https://www.cs.toronto.edu/~kriz/cifar-10-python.tar.gz\n",
            "170500096/170498071 [==============================] - 4s 0us/step\n",
            "170508288/170498071 [==============================] - 4s 0us/step\n"
          ]
        },
        {
          "output_type": "execute_result",
          "data": {
            "text/plain": [
              "(50000, 32, 32, 3)"
            ]
          },
          "metadata": {},
          "execution_count": 2
        }
      ]
    },
    {
      "cell_type": "code",
      "source": [
        "X_test.shape # Ảnh Test"
      ],
      "metadata": {
        "colab": {
          "base_uri": "https://localhost:8080/"
        },
        "id": "3Zu3GymRXC4J",
        "outputId": "03dd561f-6960-48b5-e73d-f79d7feeaad5"
      },
      "execution_count": 3,
      "outputs": [
        {
          "output_type": "execute_result",
          "data": {
            "text/plain": [
              "(10000, 32, 32, 3)"
            ]
          },
          "metadata": {},
          "execution_count": 3
        }
      ]
    },
    {
      "cell_type": "code",
      "source": [
        "y_train.shape # Ảnh Train\n"
      ],
      "metadata": {
        "colab": {
          "base_uri": "https://localhost:8080/"
        },
        "id": "Um3fYr7rXFr2",
        "outputId": "8686e63a-93cf-4bd3-8797-959779b1bfbe"
      },
      "execution_count": 4,
      "outputs": [
        {
          "output_type": "execute_result",
          "data": {
            "text/plain": [
              "(50000, 1)"
            ]
          },
          "metadata": {},
          "execution_count": 4
        }
      ]
    },
    {
      "cell_type": "code",
      "source": [
        "y_train[:5] # Mảng 2 chiều"
      ],
      "metadata": {
        "colab": {
          "base_uri": "https://localhost:8080/"
        },
        "id": "hDasaaybXIVc",
        "outputId": "da98a39f-79f2-4c53-d685-cc66357a8105"
      },
      "execution_count": 5,
      "outputs": [
        {
          "output_type": "execute_result",
          "data": {
            "text/plain": [
              "array([[6],\n",
              "       [9],\n",
              "       [9],\n",
              "       [4],\n",
              "       [1]], dtype=uint8)"
            ]
          },
          "metadata": {},
          "execution_count": 5
        }
      ]
    },
    {
      "cell_type": "code",
      "source": [
        "y_train = y_train.reshape(-1,) # Chuyển  thành mảng 1 chiều\n",
        "y_train[:5]"
      ],
      "metadata": {
        "colab": {
          "base_uri": "https://localhost:8080/"
        },
        "id": "_V_LjO0_XL8O",
        "outputId": "6a8e67a5-6541-43a0-8e15-43b2921f43d3"
      },
      "execution_count": 6,
      "outputs": [
        {
          "output_type": "execute_result",
          "data": {
            "text/plain": [
              "array([6, 9, 9, 4, 1], dtype=uint8)"
            ]
          },
          "metadata": {},
          "execution_count": 6
        }
      ]
    },
    {
      "cell_type": "code",
      "source": [
        "y_test = y_test.reshape(-1,)"
      ],
      "metadata": {
        "id": "TDIRaPl6XOxx"
      },
      "execution_count": 7,
      "outputs": []
    },
    {
      "cell_type": "code",
      "source": [
        "classes = [\"máy bay\",\"automobile\",\"con chim\",\"con mèo\",\"con nai\",\"con chó\",\"con ếch\",\"con ngựa\",\"cái tàu\",\"xe tải\"]"
      ],
      "metadata": {
        "id": "Lb5gy7BBXSc2"
      },
      "execution_count": 16,
      "outputs": []
    },
    {
      "cell_type": "code",
      "source": [
        "def plot_sample(X, y, index): # Dán nhãn cho data\n",
        "    plt.figure(figsize = (15,2)) # kích thước\n",
        "    plt.imshow(X[index])\n",
        "    plt.xlabel(classes[y[index]])"
      ],
      "metadata": {
        "id": "ZBeQY-qVXWPO"
      },
      "execution_count": 9,
      "outputs": []
    },
    {
      "cell_type": "code",
      "source": [
        "plot_sample(X_train, y_train, 0)"
      ],
      "metadata": {
        "colab": {
          "base_uri": "https://localhost:8080/",
          "height": 173
        },
        "id": "IUUm9TyRXZxV",
        "outputId": "2690ed2e-03ec-4d3d-a6ca-97fae597d311"
      },
      "execution_count": 10,
      "outputs": [
        {
          "output_type": "display_data",
          "data": {
            "text/plain": [
              "<Figure size 1080x144 with 1 Axes>"
            ],
            "image/png": "[encoded data removed]"
          },
          "metadata": {
            "needs_background": "light"
          }
        }
      ]
    },
    {
      "cell_type": "code",
      "source": [
        "plot_sample(X_train, y_train, 1)"
      ],
      "metadata": {
        "colab": {
          "base_uri": "https://localhost:8080/",
          "height": 173
        },
        "id": "o6h9_x5JXc7u",
        "outputId": "44d75ac7-1c25-4831-8319-9caf771feab3"
      },
      "execution_count": 11,
      "outputs": [
        {
          "output_type": "display_data",
          "data": {
            "text/plain": [
              "<Figure size 1080x144 with 1 Axes>"
            ],
            "image/png": "[encoded data removed]"
          },
          "metadata": {
            "needs_background": "light"
          }
        }
      ]
    },
    {
      "cell_type": "code",
      "source": [
        "# chuẩn hóa dữ liệu nằm trong khoảng 0-1 nên chia cho 255\n",
        "X_train = X_train / 255.0\n",
        "X_test = X_test / 255.0"
      ],
      "metadata": {
        "id": "ukowhbIRXf7H"
      },
      "execution_count": 12,
      "outputs": []
    },
    {
      "cell_type": "code",
      "source": [
        "# Convolutional Neural Network (CNN)\n",
        "cnn = models.Sequential([\n",
        "    layers.Conv2D(filters=32, kernel_size=(3, 3), activation='relu', input_shape=(32, 32, 3)), # Truyền vào kích thước ảnh , mảng 3 chiều\n",
        "    layers.MaxPooling2D((2, 2)),\n",
        " \n",
        "    layers.Conv2D(filters=64, kernel_size=(3, 3), activation='relu'),\n",
        "    layers.MaxPooling2D((2, 2)),\n",
        " \n",
        "    layers.Flatten(),\n",
        "    layers.Dense(64, activation='relu'),\n",
        "    layers.Dense(10, activation='softmax')\n",
        "])"
      ],
      "metadata": {
        "id": "M-K0DaB0XjgN"
      },
      "execution_count": 13,
      "outputs": []
    },
    {
      "cell_type": "code",
      "source": [
        "cnn.compile(optimizer='adam',\n",
        "              loss='sparse_categorical_crossentropy',\n",
        "              metrics=['accuracy'])"
      ],
      "metadata": {
        "id": "8Av4FmzLXm-O"
      },
      "execution_count": 14,
      "outputs": []
    },
    {
      "cell_type": "code",
      "source": [
        "cnn.fit(X_train, y_train, epochs=10)"
      ],
      "metadata": {
        "colab": {
          "base_uri": "https://localhost:8080/"
        },
        "id": "VH607jBjXoKv",
        "outputId": "519b56b1-d5fb-46c8-9960-ad212d16c08b"
      },
      "execution_count": 15,
      "outputs": [
        {
          "output_type": "stream",
          "name": "stdout",
          "text": [
            "Epoch 1/10\n",
            "1563/1563 [==============================] - 77s 49ms/step - loss: 1.4721 - accuracy: 0.4694\n",
            "Epoch 2/10\n",
            "1563/1563 [==============================] - 71s 45ms/step - loss: 1.1141 - accuracy: 0.6082\n",
            "Epoch 3/10\n",
            "1563/1563 [==============================] - 70s 45ms/step - loss: 0.9911 - accuracy: 0.6529\n",
            "Epoch 4/10\n",
            "1563/1563 [==============================] - 74s 47ms/step - loss: 0.9078 - accuracy: 0.6853\n",
            "Epoch 5/10\n",
            "1563/1563 [==============================] - 67s 43ms/step - loss: 0.8439 - accuracy: 0.7077\n",
            "Epoch 6/10\n",
            "1563/1563 [==============================] - 64s 41ms/step - loss: 0.7907 - accuracy: 0.7268\n",
            "Epoch 7/10\n",
            "1563/1563 [==============================] - 63s 41ms/step - loss: 0.7445 - accuracy: 0.7418\n",
            "Epoch 8/10\n",
            "1563/1563 [==============================] - 63s 40ms/step - loss: 0.7069 - accuracy: 0.7552\n",
            "Epoch 9/10\n",
            "1563/1563 [==============================] - 63s 40ms/step - loss: 0.6649 - accuracy: 0.7681\n",
            "Epoch 10/10\n",
            "1563/1563 [==============================] - 63s 40ms/step - loss: 0.6302 - accuracy: 0.7789\n"
          ]
        },
        {
          "output_type": "execute_result",
          "data": {
            "text/plain": [
              "<keras.callbacks.History at 0x7f329b0dc810>"
            ]
          },
          "metadata": {},
          "execution_count": 15
        }
      ]
    },
    {
      "cell_type": "code",
      "source": [
        "from sklearn.metrics import confusion_matrix , classification_report\n",
        "import numpy as np\n",
        "y_pred = cnn.predict(X_test)\n",
        "y_pred_classes = [np.argmax(element) for element in y_pred]"
      ],
      "metadata": {
        "id": "XIk3VHwIXrUv"
      },
      "execution_count": 17,
      "outputs": []
    },
    {
      "cell_type": "code",
      "source": [
        "print(\"Classification Report: \\n\", classification_report(y_test, y_pred_classes)) # Báo cáo phân loại"
      ],
      "metadata": {
        "colab": {
          "base_uri": "https://localhost:8080/"
        },
        "id": "zrbcoBFLXxUY",
        "outputId": "5f249ec2-719f-443c-df48-cefb7cd39e13"
      },
      "execution_count": 18,
      "outputs": [
        {
          "output_type": "stream",
          "name": "stdout",
          "text": [
            "Classification Report: \n",
            "               precision    recall  f1-score   support\n",
            "\n",
            "           0       0.78      0.69      0.73      1000\n",
            "           1       0.81      0.82      0.81      1000\n",
            "           2       0.64      0.57      0.61      1000\n",
            "           3       0.59      0.46      0.52      1000\n",
            "           4       0.58      0.70      0.63      1000\n",
            "           5       0.60      0.63      0.61      1000\n",
            "           6       0.85      0.69      0.76      1000\n",
            "           7       0.60      0.86      0.71      1000\n",
            "           8       0.78      0.82      0.80      1000\n",
            "           9       0.82      0.73      0.77      1000\n",
            "\n",
            "    accuracy                           0.70     10000\n",
            "   macro avg       0.70      0.70      0.69     10000\n",
            "weighted avg       0.70      0.70      0.69     10000\n",
            "\n"
          ]
        }
      ]
    },
    {
      "cell_type": "code",
      "source": [
        "cnn.evaluate(X_test,y_test)"
      ],
      "metadata": {
        "colab": {
          "base_uri": "https://localhost:8080/"
        },
        "id": "fvKpkgtpX3B1",
        "outputId": "359335d9-e089-4d81-f5eb-616837b6ba72"
      },
      "execution_count": 19,
      "outputs": [
        {
          "output_type": "stream",
          "name": "stdout",
          "text": [
            "313/313 [==============================] - 4s 13ms/step - loss: 0.9405 - accuracy: 0.6954\n"
          ]
        },
        {
          "output_type": "execute_result",
          "data": {
            "text/plain": [
              "[0.9404929876327515, 0.6953999996185303]"
            ]
          },
          "metadata": {},
          "execution_count": 19
        }
      ]
    },
    {
      "cell_type": "code",
      "source": [
        "y_pred = cnn.predict(X_test)\n",
        "y_pred[:5]"
      ],
      "metadata": {
        "colab": {
          "base_uri": "https://localhost:8080/"
        },
        "id": "4Q6jHR3JYF13",
        "outputId": "d90ad6eb-0a6a-4215-9af1-7b3e18f6c08c"
      },
      "execution_count": 20,
      "outputs": [
        {
          "output_type": "execute_result",
          "data": {
            "text/plain": [
              "array([[4.56015376e-04, 1.14310315e-04, 1.30555627e-03, 9.08667564e-01,\n",
              "        2.28499557e-04, 7.64365569e-02, 1.12647954e-02, 8.02157811e-05,\n",
              "        1.31363934e-03, 1.32748173e-04],\n",
              "       [4.12163383e-04, 8.37948732e-03, 1.04555863e-06, 7.75673016e-07,\n",
              "        3.52493252e-08, 5.54376243e-08, 5.36666134e-09, 8.97811745e-08,\n",
              "        9.91113842e-01, 9.24640190e-05],\n",
              "       [3.83656360e-02, 8.64642784e-02, 4.85299854e-04, 2.53085745e-03,\n",
              "        4.14005807e-03, 9.82044512e-05, 4.46035556e-05, 2.83476384e-03,\n",
              "        8.52406740e-01, 1.26296142e-02],\n",
              "       [9.13693666e-01, 2.91006155e-02, 7.61055993e-03, 1.65481993e-04,\n",
              "        4.04388793e-02, 4.92464414e-06, 5.14892126e-05, 2.04477506e-03,\n",
              "        6.72690757e-03, 1.62613578e-04],\n",
              "       [3.39960707e-07, 1.35273285e-06, 7.16674142e-03, 4.62139677e-03,\n",
              "        9.08106685e-01, 2.57639145e-03, 7.74348825e-02, 9.20124658e-05,\n",
              "        1.80670796e-07, 7.61669128e-08]], dtype=float32)"
            ]
          },
          "metadata": {},
          "execution_count": 20
        }
      ]
    },
    {
      "cell_type": "code",
      "source": [
        "y_classes = [np.argmax(element) for element in y_pred]\n",
        "y_classes[:5]"
      ],
      "metadata": {
        "colab": {
          "base_uri": "https://localhost:8080/"
        },
        "id": "J2U5_j3jYJR7",
        "outputId": "596baf63-b0b8-47ed-938b-8375e86fd8ed"
      },
      "execution_count": 21,
      "outputs": [
        {
          "output_type": "execute_result",
          "data": {
            "text/plain": [
              "[3, 8, 8, 0, 4]"
            ]
          },
          "metadata": {},
          "execution_count": 21
        }
      ]
    },
    {
      "cell_type": "code",
      "source": [
        "y_test[:5]"
      ],
      "metadata": {
        "colab": {
          "base_uri": "https://localhost:8080/"
        },
        "id": "5-N5x4wuYMG_",
        "outputId": "0c6d172f-4b1e-424a-c98f-703f1bc979d1"
      },
      "execution_count": 22,
      "outputs": [
        {
          "output_type": "execute_result",
          "data": {
            "text/plain": [
              "array([3, 8, 8, 0, 6], dtype=uint8)"
            ]
          },
          "metadata": {},
          "execution_count": 22
        }
      ]
    },
    {
      "cell_type": "code",
      "source": [
        "plot_sample(X_test, y_test,3)\n",
        "classes[y_classes[3]]"
      ],
      "metadata": {
        "colab": {
          "base_uri": "https://localhost:8080/",
          "height": 191
        },
        "id": "UEsogP_wYP4b",
        "outputId": "c50aa284-32fa-4636-826d-327114350b1e"
      },
      "execution_count": 60,
      "outputs": [
        {
          "output_type": "execute_result",
          "data": {
            "text/plain": [
              "'máy bay'"
            ],
            "application/vnd.google.colaboratory.intrinsic+json": {
              "type": "string"
            }
          },
          "metadata": {},
          "execution_count": 60
        },
        {
          "output_type": "display_data",
          "data": {
            "text/plain": [
              "<Figure size 1080x144 with 1 Axes>"
            ],
            "image/png": "[encoded data removed]"
          },
          "metadata": {
            "needs_background": "light"
          }
        }
      ]
    },
    {
      "cell_type": "code",
      "source": [
        "from PIL import Image\n",
        " \n",
        "def load_image(filename):\n",
        "  global label_packed\n",
        "  # load tấm ảnh lên\n",
        "  image = Image.open(filename)\n",
        "  image = image.resize((32,32))\n",
        "  image = np.expand_dims(image, axis=0)\n",
        "  image = np.array(image)\n",
        "  img = image.astype('float32')\n",
        "  img=image/255.0\n",
        "  return img"
      ],
      "metadata": {
        "id": "BfW-t68LYUMy"
      },
      "execution_count": 24,
      "outputs": []
    },
    {
      "cell_type": "code",
      "source": [
        "img_test = load_image('conngua.jpg')\n",
        "digit = cnn.predict(img_test)\n",
        "print(classes[np.argmax(digit)])"
      ],
      "metadata": {
        "colab": {
          "base_uri": "https://localhost:8080/"
        },
        "id": "BUdKkrsNYVLT",
        "outputId": "5ea5d583-b212-4f91-c78f-6521eb934878"
      },
      "execution_count": 54,
      "outputs": [
        {
          "output_type": "stream",
          "name": "stdout",
          "text": [
            "con ngựa\n"
          ]
        }
      ]
    },
    {
      "cell_type": "markdown",
      "source": [
        ""
      ],
      "metadata": {
        "id": "Fkkn_JbGYE1q"
      }
    }
  ]
}