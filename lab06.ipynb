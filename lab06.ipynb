{
  "nbformat": 4,
  "nbformat_minor": 0,
  "metadata": {
    "colab": {
      "name": "lab06.ipynb",
      "provenance": [],
      "collapsed_sections": [],
      "authorship_tag": "ABX9TyMqROdMqHu854ugn1u06S+B",
      "include_colab_link": true
    },
    "kernelspec": {
      "name": "python3",
      "display_name": "Python 3"
    },
    "language_info": {
      "name": "python"
    }
  },
  "cells": [
    {
      "cell_type": "markdown",
      "metadata": {
        "id": "view-in-github",
        "colab_type": "text"
      },
      "source": [
        "<a href=\"https://colab.research.google.com/github/bibell0211/phantichdulieu/blob/main/lab06.ipynb\" target=\"_parent\"><img src=\"https://colab.research.google.com/assets/colab-badge.svg\" alt=\"Open In Colab\"/></a>"
      ]
    },
    {
      "cell_type": "code",
      "execution_count": 14,
      "metadata": {
        "colab": {
          "base_uri": "https://localhost:8080/"
        },
        "id": "3_UwDAdgSzBQ",
        "outputId": "6c7a169c-dc12-4e7a-eb8f-69ed8c4cb452"
      },
      "outputs": [
        {
          "output_type": "stream",
          "name": "stdout",
          "text": [
            "     presz  postsz   inc  year  lf\n",
            "0    113.6   127.7  14.1   NaN   0\n",
            "1    118.1   133.2  15.1   NaN   0\n",
            "2    119.9   135.3  15.4   NaN   0\n",
            "3    126.2   143.3  17.1   NaN   0\n",
            "4    126.7   139.3  12.6   NaN   0\n",
            "..     ...     ...   ...   ...  ..\n",
            "467  135.9   150.3  14.4  92.0   1\n",
            "468  135.6   151.2  15.6  92.0   1\n",
            "469  129.6   143.5  13.9  92.0   1\n",
            "470  134.1   148.3  14.2  92.0   1\n",
            "471  114.4   129.2  14.8  92.0   1\n",
            "\n",
            "[472 rows x 5 columns]\n"
          ]
        }
      ],
      "source": [
        "import pandas as pd\n",
        "import numpy as np\n",
        "import matplotlib.pyplot as plt\n",
        "import statsmodels.formula.api as smf\n",
        "#load du lieu\n",
        "df=pd.read_csv('https://raw.githubusercontent.com/huynhhoc/phantichdulieu/main/Data/crabs.csv',sep='\\s+')\n",
        "print(df)\n",
        "\n"
      ]
    },
    {
      "cell_type": "code",
      "source": [
        "#ve scatter plot\n",
        "plt.plot(df['postsz'],df['presz'],'o')\n",
        "plt.xlabel('Postmolt size')\n",
        "plt.ylabel('Premolt size')\n",
        "plt.title('Postmolt vs Premolt')\n",
        "plt.show()"
      ],
      "metadata": {
        "colab": {
          "base_uri": "https://localhost:8080/",
          "height": 295
        },
        "id": "Uh2l8fd1WIQ0",
        "outputId": "0eabfa4c-5f32-43e4-c2c9-a55267816f47"
      },
      "execution_count": 15,
      "outputs": [
        {
          "output_type": "display_data",
          "data": {
            "text/plain": [
              "<Figure size 432x288 with 1 Axes>"
            ],
            "image/png": "[encoded data removed]"
          },
          "metadata": {
            "needs_background": "light"
          }
        }
      ]
    },
    {
      "cell_type": "code",
      "source": [
        "#tinh he so tuong quan\n",
        "from scipy.stats.stats import pearsonr\n",
        "print('He so tuong quan la:',pearsonr(df['postsz'],df['presz']))"
      ],
      "metadata": {
        "colab": {
          "base_uri": "https://localhost:8080/"
        },
        "id": "fHTcvLU4WKC8",
        "outputId": "66238d4a-7468-4b1e-ddc4-77814f08c754"
      },
      "execution_count": 16,
      "outputs": [
        {
          "output_type": "stream",
          "name": "stdout",
          "text": [
            "He so tuong quan la: (0.9903699282533854, 0.0)\n"
          ]
        }
      ]
    },
    {
      "cell_type": "code",
      "source": [
        "#tìm phương trình hồi quy: tính là tính beta 0, beta 1\n"
      ],
      "metadata": {
        "id": "FBgAKSS3XTPI"
      },
      "execution_count": null,
      "outputs": []
    },
    {
      "cell_type": "code",
      "source": [
        "#truyền Y trước:presz , X sau:postsz\n",
        "result=smf.ols('presz~postsz',df).fit()\n",
        "print(result.summary()) "
      ],
      "metadata": {
        "colab": {
          "base_uri": "https://localhost:8080/"
        },
        "id": "jZqa7NT5Y2VO",
        "outputId": "5b956adb-3295-4e15-ab41-b063b7cbeb7e"
      },
      "execution_count": 20,
      "outputs": [
        {
          "output_type": "stream",
          "name": "stdout",
          "text": [
            "                            OLS Regression Results                            \n",
            "==============================================================================\n",
            "Dep. Variable:                  presz   R-squared:                       0.981\n",
            "Model:                            OLS   Adj. R-squared:                  0.981\n",
            "Method:                 Least Squares   F-statistic:                 2.405e+04\n",
            "Date:                Mon, 21 Mar 2022   Prob (F-statistic):               0.00\n",
            "Time:                        12:51:20   Log-Likelihood:                -1040.6\n",
            "No. Observations:                 472   AIC:                             2085.\n",
            "Df Residuals:                     470   BIC:                             2094.\n",
            "Df Model:                           1                                         \n",
            "Covariance Type:            nonrobust                                         \n",
            "==============================================================================\n",
            "                 coef    std err          t      P>|t|      [0.025      0.975]\n",
            "------------------------------------------------------------------------------\n",
            "Intercept    -25.2137      1.001    -25.191      0.000     -27.180     -23.247\n",
            "postsz         1.0732      0.007    155.083      0.000       1.060       1.087\n",
            "==============================================================================\n",
            "Omnibus:                      107.875   Durbin-Watson:                   1.684\n",
            "Prob(Omnibus):                  0.000   Jarque-Bera (JB):              625.191\n",
            "Skew:                           0.845   Prob(JB):                    1.74e-136\n",
            "Kurtosis:                       8.379   Cond. No.                     1.43e+03\n",
            "==============================================================================\n",
            "\n",
            "Warnings:\n",
            "[1] Standard Errors assume that the covariance matrix of the errors is correctly specified.\n",
            "[2] The condition number is large, 1.43e+03. This might indicate that there are\n",
            "strong multicollinearity or other numerical problems.\n"
          ]
        }
      ]
    },
    {
      "cell_type": "code",
      "source": [
        "#nhìn kết quả đọc giá trị beta0,beta1, intercept -25.2137 là beta0, postsz 1.0732 là beta1\n",
        "#đọc xong viết phương trình hồi quy \n",
        "#Premolt = -25.2137+1.0732*PostMolt\n",
        "sales_pred = result.predict()\n",
        "plt.plot(df['postsz'],df['presz'],'o')\n",
        "plt.plot(df['postsz'],sales_pred,'r',linewidth=2)\n",
        "plt.xlabel('Postmlit size')\n",
        "plt.ylabel('Premolt size')\n",
        "plt.ylabel('Postmost')\n",
        "plt.show()"
      ],
      "metadata": {
        "id": "YynQbl4wZuhH",
        "colab": {
          "base_uri": "https://localhost:8080/",
          "height": 280
        },
        "outputId": "9afd4b68-9156-47ca-e6f5-a86bad17a92a"
      },
      "execution_count": 21,
      "outputs": [
        {
          "output_type": "display_data",
          "data": {
            "text/plain": [
              "<Figure size 432x288 with 1 Axes>"
            ],
            "image/png": "[encoded data removed]"
          },
          "metadata": {
            "needs_background": "light"
          }
        }
      ]
    }
  ]
}